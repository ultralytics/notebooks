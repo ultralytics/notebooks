{
  "nbformat": 4,
  "nbformat_minor": 0,
  "metadata": {
    "colab": {
      "provenance": [],
      "toc_visible": true
    },
    "kernelspec": {
      "name": "python3",
      "display_name": "Python 3"
    },
    "language_info": {
      "name": "python"
    }
  },
  "cells": [
    {
      "cell_type": "markdown",
      "source": [
        "# YOLO Model Validation and Results Export\n",
        "\n",
        "This notebook demonstrates how to validate a YOLO model and export the validation results in multiple formats including CSV, HTML, XML, SQL, and JSON. This is particularly useful for:\n",
        "\n",
        "- **Model Performance Analysis**: Get detailed metrics for each class\n",
        "- **Data Integration**: Export results to databases or other analysis tools\n",
        "- **Reporting**: Generate formatted reports for stakeholders\n",
        "- **Further Processing**: Use results in downstream analysis pipelines\n",
        "\n",
        "## Key Features Covered:\n",
        "- Model validation with YOLO11\n",
        "- Exporting validation metrics in multiple formats\n",
        "- Confusion matrix analysis and export\n",
        "- Best practices for result handling"
      ],
      "metadata": {
        "id": "main-title"
      }
    },
    {
      "cell_type": "markdown",
      "source": [
        "## Environment Setup and Dependencies\n",
        "\n",
        "First, we'll install the Ultralytics library which provides the YOLO implementation and check our environment setup. This ensures we have all necessary dependencies for model validation and result export."
      ],
      "metadata": {
        "id": "o-WxHpU1Y1en"
      }
    },
    {
      "cell_type": "code",
      "execution_count": 1,
      "metadata": {
        "colab": {
          "base_uri": "https://localhost:8080/"
        },
        "id": "dEXdyKGvYBcN",
        "outputId": "c0e69db4-3a02-41ff-dab8-4cb1d3867a59"
      },
      "outputs": [
        {
          "output_type": "stream",
          "name": "stdout",
          "text": [
            "Ultralytics 8.3.156 🚀 Python-3.11.13 torch-2.6.0+cu124 CPU (Intel Xeon 2.20GHz)\n",
            "Setup complete ✅ (2 CPUs, 12.7 GB RAM, 41.5/107.7 GB disk)\n"
          ]
        }
      ],
      "source": [
        "# Install Ultralytics YOLO package\n",
        "%pip install ultralytics -q\n",
        "\n",
        "# Import and verify installation\n",
        "import ultralytics\n",
        "ultralytics.checks()\n",
        "\n",
        "print(\"\\n📦 Dependencies installed successfully!\")\n",
        "print(\"✅ Ready to proceed with model validation\")"
      ]
    },
    {
      "cell_type": "markdown",
      "source": [
        "## Model Loading and Validation\n",
        "\n",
        "Here we load a pre-trained YOLO11 nano model and validate it on the COCO8 dataset. The validation process evaluates the model's performance across different object classes and generates comprehensive metrics including:\n",
        "\n",
        "- **Precision**: Accuracy of positive predictions\n",
        "- **Recall**: Ability to find all positive instances\n",
        "- **F1-Score**: Harmonic mean of precision and recall\n",
        "- **mAP (mean Average Precision)**: Overall detection accuracy\n",
        "- **Confusion Matrix**: Detailed classification results\n",
        "\n",
        "💡 **Note**: Replace `\"coco8.yaml\"` with your custom dataset configuration file if using a custom-trained model."
      ],
      "metadata": {
        "id": "BS5DF2e4Y4R_"
      }
    },
    {
      "cell_type": "code",
      "source": [
        "from ultralytics import YOLO\n",
        "import os\n",
        "\n",
        "# Load pre-trained YOLO11 nano model\n",
        "print(\"🔄 Loading YOLO11 nano model...\")\n",
        "model = YOLO(\"yolo11n.pt\")\n",
        "\n",
        "print(\"🔍 Starting model validation...\")\n",
        "print(\"📊 This may take a few minutes depending on dataset size...\\n\")\n",
        "\n",
        "# Validate the model on COCO8 dataset\n",
        "# For custom models, replace \"coco8.yaml\" with your data.yaml file\n",
        "metrics = model.val(data=\"coco8.yaml\", verbose=True)\n",
        "\n",
        "print(\"\\n✅ Validation completed successfully!\")\n",
        "print(f\"📈 Overall mAP@0.5: {metrics.box.map50:.4f}\")\n",
        "print(f\"📈 Overall mAP@0.5:0.95: {metrics.box.map:.4f}\")"
      ],
      "metadata": {
        "id": "-2Y5WSONYW1A"
      },
      "execution_count": null,
      "outputs": []
    },
    {
      "cell_type": "markdown",
      "source": [
        "## Validation Results Export\n",
        "\n",
        "The YOLO metrics object provides several convenient methods to export validation results in different formats. This section demonstrates how to export the same data in various formats for different use cases:\n",
        "\n",
        "- **DataFrame**: For immediate analysis in Python/Jupyter\n",
        "- **CSV**: For spreadsheet applications (Excel, Google Sheets)\n",
        "- **SQL**: For database integration and queries\n",
        "- **HTML**: For web display and reporting\n",
        "- **XML**: For structured data exchange\n",
        "- **JSON**: For API integration and web applications"
      ],
      "metadata": {
        "id": "LT6kvd-hY7L_"
      }
    },
    {
      "cell_type": "markdown",
      "source": [
        "### 📊 Pandas DataFrame Format\n",
        "\n",
        "The DataFrame format is perfect for immediate analysis within Python. It provides a structured view of per-class performance metrics that can be easily manipulated, filtered, and analyzed."
      ],
      "metadata": {
        "id": "jnrwINL1afQR"
      }
    },
    {
      "cell_type": "code",
      "source": [
        "# Display results as pandas DataFrame\n",
        "df_results = metrics.to_df()\n",
        "print(\"📋 Validation Results (DataFrame Format):\")\n",
        "print(\"=\" * 80)\n",
        "print(df_results)\n",
        "\n",
        "# Additional analysis examples\n",
        "print(\"\\n📊 Quick Statistics:\")\n",
        "print(f\"   • Number of classes evaluated: {len(df_results)}\")\n",
        "print(f\"   • Best performing class (by mAP): {df_results.loc[df_results['box-map'].idxmax(), 'class_name']}\")\n",
        "print(f\"   • Lowest performing class (by mAP): {df_results.loc[df_results['box-map'].idxmin(), 'class_name']}\")\n",
        "print(f\"   • Average precision across all classes: {df_results['box-p'].mean():.4f}\")\n",
        "print(f\"   • Average recall across all classes: {df_results['box-r'].mean():.4f}\")"
      ],
      "metadata": {
        "colab": {
          "base_uri": "https://localhost:8080/"
        },
        "id": "T-UIqYqrY9O7",
        "outputId": "d536cf89-35f6-436f-fdd8-d7f03f5dc993"
      },
      "execution_count": 12,
      "outputs": [
        {
          "output_type": "stream",
          "name": "stdout",
          "text": [
            "     class_name    box-p  box-r   box-f1  box-map  box-map50  box-map75\n",
            "0        person  0.55725    0.6  0.57783  0.63162    0.84684     0.6918\n",
            "1           dog  0.54802    1.0  0.70803  0.63162    0.84684     0.6918\n",
            "2         horse  0.53058    1.0  0.69331  0.63162    0.84684     0.6918\n",
            "3      elephant  0.37078    0.5  0.42580  0.63162    0.84684     0.6918\n",
            "4      umbrella  0.56900    1.0  0.72531  0.63162    0.84684     0.6918\n",
            "5  potted plant  0.84718    1.0  0.91727  0.63162    0.84684     0.6918\n"
          ]
        }
      ]
    },
    {
      "cell_type": "markdown",
      "source": [
        "### 📄 CSV (Comma Separated Values) Format\n",
        "\n",
        "CSV format is ideal for:\n",
        "- Opening in spreadsheet applications (Excel, Google Sheets)\n",
        "- Data exchange between different systems\n",
        "- Simple data storage and backup\n",
        "- Integration with data analysis tools"
      ],
      "metadata": {
        "id": "Y1ggdrpsa1Bg"
      }
    },
    {
      "cell_type": "code",
      "source": [
        "# Export to CSV format\n",
        "csv_results = metrics.to_csv()\n",
        "print(\"📄 Validation Results (CSV Format):\")\n",
        "print(\"=\" * 80)\n",
        "print(csv_results)\n",
        "\n",
        "# Optionally save to file\n",
        "csv_filename = \"validation_results.csv\"\n",
        "with open(csv_filename, 'w') as f:\n",
        "    f.write(csv_results)\n",
        "    \n",
        "print(f\"💾 Results saved to: {csv_filename}\")\n",
        "print(\"📁 You can download this file for use in Excel or other applications\")"
      ],
      "metadata": {
        "colab": {
          "base_uri": "https://localhost:8080/"
        },
        "id": "hq_eJc_5a6w_",
        "outputId": "72cb6cf4-1bee-4230-a31b-5b85982e5120"
      },
      "execution_count": 13,
      "outputs": [
        {
          "output_type": "stream",
          "name": "stdout",
          "text": [
            ",class_name,box-p,box-r,box-f1,box-map,box-map50,box-map75\n",
            "0,person,0.55725,0.6,0.57783,0.63162,0.84684,0.6918\n",
            "1,dog,0.54802,1.0,0.70803,0.63162,0.84684,0.6918\n",
            "2,horse,0.53058,1.0,0.69331,0.63162,0.84684,0.6918\n",
            "3,elephant,0.37078,0.5,0.4258,0.63162,0.84684,0.6918\n",
            "4,umbrella,0.569,1.0,0.72531,0.63162,0.84684,0.6918\n",
            "5,potted plant,0.84718,1.0,0.91727,0.63162,0.84684,0.6918\n",
            "\n"
          ]
        }
      ]
    },
    {
      "cell_type": "markdown",
      "source": [
        "### 🗄️ SQL Database Format\n",
        "\n",
        "SQL export creates a SQLite database file that can be:\n",
        "- Queried using SQL commands\n",
        "- Integrated into database-driven applications\n",
        "- Used for complex data analysis and reporting\n",
        "- Connected to business intelligence tools\n",
        "\n",
        "💡 **Tip**: To view the SQL file, open the [SQLite Viewer](https://inloop.github.io/sqlite-viewer/) and upload the `results.db` file."
      ],
      "metadata": {
        "id": "7HLVkPHPa_CA"
      }
    },
    {
      "cell_type": "code",
      "source": [
        "# Export to SQL database\n",
        "print(\"🗄️ Exporting to SQL database...\")\n",
        "metrics.to_sql()\n",
        "\n",
        "# Verify the database file was created\n",
        "if os.path.exists('results.db'):\n",
        "    file_size = os.path.getsize('results.db')\n",
        "    print(f\"✅ SQL database created successfully!\")\n",
        "    print(f\"📁 File: results.db ({file_size} bytes)\")\n",
        "    print(f\"🔍 View online: https://inloop.github.io/sqlite-viewer/\")\n",
        "    \n",
        "    # Show some SQL query examples\n",
        "    print(\"\\n📝 Example SQL queries you can run:\")\n",
        "    print(\"   • SELECT * FROM results WHERE [box-map] > 0.7\")\n",
        "    print(\"   • SELECT class_name, [box-p], [box-r] FROM results ORDER BY [box-f1] DESC\")\n",
        "    print(\"   • SELECT AVG([box-map]) as avg_map FROM results\")"
      ],
      "metadata": {
        "colab": {
          "base_uri": "https://localhost:8080/"
        },
        "id": "oOrl79b4bBXo",
        "outputId": "40666751-543b-48a1-be3b-b4e04594c314"
      },
      "execution_count": 14,
      "outputs": [
        {
          "output_type": "stream",
          "name": "stdout",
          "text": [
            "Results saved to SQL table 'results' in 'results.db'.\n"
          ]
        }
      ]
    },
    {
      "cell_type": "markdown",
      "source": [
        "### 🌐 Additional Export Formats\n",
        "\n",
        "YOLO also supports exporting to HTML, XML, and JSON formats. Each format serves different purposes:\n",
        "\n",
        "- **HTML**: Perfect for web reports and dashboards\n",
        "- **XML**: Structured data exchange, especially in enterprise environments\n",
        "- **JSON**: API integration, web applications, and modern data pipelines"
      ],
      "metadata": {
        "id": "additional-formats"
      }
    },
    {
      "cell_type": "code",
      "source": [
        "# Export to HTML format\n",
        "print(\"🌐 Exporting to HTML format...\")\n",
        "html_results = metrics.to_html()\n",
        "with open('validation_results.html', 'w') as f:\n",
        "    f.write(html_results)\n",
        "print(\"✅ HTML file created: validation_results.html\")\n",
        "\n",
        "# Export to XML format\n",
        "print(\"\\n📄 Exporting to XML format...\")\n",
        "xml_results = metrics.to_xml()\n",
        "with open('validation_results.xml', 'w') as f:\n",
        "    f.write(xml_results)\n",
        "print(\"✅ XML file created: validation_results.xml\")\n",
        "\n",
        "# Export to JSON format\n",
        "print(\"\\n🔧 Exporting to JSON format...\")\n",
        "json_results = metrics.to_json()\n",
        "with open('validation_results.json', 'w') as f:\n",
        "    f.write(json_results)\n",
        "print(\"✅ JSON file created: validation_results.json\")\n",
        "\n",
        "print(\"\\n🎉 All export formats completed successfully!\")\n",
        "print(\"📁 Files created: .csv, .html, .xml, .json, .db\")"
      ],
      "metadata": {
        "id": "additional-exports"
      },
      "execution_count": null,
      "outputs": []
    },
    {
      "cell_type": "markdown",
      "source": [
        "## 🎯 Confusion Matrix Analysis and Export\n",
        "\n",
        "The confusion matrix provides detailed insights into model performance by showing:\n",
        "- **True vs Predicted classifications** for each class\n",
        "- **Misclassification patterns** between similar classes  \n",
        "- **Background vs object detection** accuracy\n",
        "- **Class-specific strengths and weaknesses**\n",
        "\n",
        "This is particularly valuable for:\n",
        "- Identifying which classes are often confused with each other\n",
        "- Understanding false positive and false negative patterns\n",
        "- Deciding on model improvement strategies\n",
        "- Creating targeted training data augmentation\n",
        "\n",
        "💡 **Note**: The confusion matrix can also be exported to the same formats as the validation metrics."
      ],
      "metadata": {
        "id": "od_0gPE6ZHjn"
      }
    },
    {
      "cell_type": "code",
      "source": [
        "# Display confusion matrix as DataFrame\n",
        "print(\"🎯 Confusion Matrix Analysis:\")\n",
        "print(\"=\" * 80)\n",
        "cm_df = metrics.confusion_matrix.to_df()\n",
        "print(f\"📊 Matrix dimensions: {cm_df.shape[0]}x{cm_df.shape[1]}\")\n",
        "print(f\"📈 Total predictions analyzed: {cm_df.select_dtypes(include=['number']).sum().sum():.0f}\")\n",
        "print(\"\\nConfusion Matrix (showing first 10 rows for readability):\")\n",
        "print(cm_df.head(10))\n",
        "\n",
        "# Export confusion matrix in different formats\n",
        "print(\"\\n💾 Exporting confusion matrix...\")\n",
        "\n",
        "# CSV format\n",
        "cm_csv = metrics.confusion_matrix.to_csv()\n",
        "with open('confusion_matrix.csv', 'w') as f:\n",
        "    f.write(cm_csv)\n",
        "print(\"✅ Confusion matrix CSV: confusion_matrix.csv\")\n",
        "\n",
        "# SQL format \n",
        "metrics.confusion_matrix.to_sql()\n",
        "print(\"✅ Confusion matrix added to SQL database\")\n",
        "\n",
        "# Other formats\n",
        "formats = ['html', 'xml', 'json']\n",
        "for fmt in formats:\n",
        "    method = getattr(metrics.confusion_matrix, f'to_{fmt}')\n",
        "    result = method()\n",
        "    filename = f'confusion_matrix.{fmt}'\n",
        "    with open(filename, 'w') as f:\n",
        "        f.write(result)\n",
        "    print(f\"✅ Confusion matrix {fmt.upper()}: {filename}\")\n",
        "\n",
        "print(\"\\n🎉 Confusion matrix exported in all formats!\")"
      ],
      "metadata": {
        "colab": {
          "base_uri": "https://localhost:8080/"
        },
        "id": "Bqy2jPI0ZGPH",
        "outputId": "cfce2e9c-0430-4fe6-8aca-2db08ed8ba0a"
      },
      "execution_count": 11,
      "outputs": [
        {
          "output_type": "stream",
          "name": "stdout",
          "text": [
            "     Predicted  person  bicycle  car  motorcycle  airplane  bus  train  truck  \\\n",
            "0       person     4.0      0.0  0.0         0.0       0.0  0.0    0.0    0.0   \n",
            "1      bicycle     0.0      0.0  0.0         0.0       0.0  0.0    0.0    0.0   \n",
            "2          car     0.0      0.0  0.0         0.0       0.0  0.0    0.0    0.0   \n",
            "3   motorcycle     0.0      0.0  0.0         0.0       0.0  0.0    0.0    0.0   \n",
            "4     airplane     0.0      0.0  0.0         0.0       0.0  0.0    0.0    0.0   \n",
            "..         ...     ...      ...  ...         ...       ...  ...    ...    ...   \n",
            "76    scissors     0.0      0.0  0.0         0.0       0.0  0.0    0.0    0.0   \n",
            "77  teddy_bear     0.0      0.0  0.0         0.0       0.0  0.0    0.0    0.0   \n",
            "78  hair_drier     0.0      0.0  0.0         0.0       0.0  0.0    0.0    0.0   \n",
            "79  toothbrush     0.0      0.0  0.0         0.0       0.0  0.0    0.0    0.0   \n",
            "80  background     6.0      0.0  0.0         0.0       0.0  0.0    0.0    0.0   \n",
            "\n",
            "    boat  ...  sink  refrigerator  book  clock  vase  scissors  teddy_bear  \\\n",
            "0    0.0  ...   0.0           0.0   0.0    0.0   0.0       0.0         0.0   \n",
            "1    0.0  ...   0.0           0.0   0.0    0.0   0.0       0.0         0.0   \n",
            "2    0.0  ...   0.0           0.0   0.0    0.0   0.0       0.0         0.0   \n",
            "3    0.0  ...   0.0           0.0   0.0    0.0   0.0       0.0         0.0   \n",
            "4    0.0  ...   0.0           0.0   0.0    0.0   0.0       0.0         0.0   \n",
            "..   ...  ...   ...           ...   ...    ...   ...       ...         ...   \n",
            "76   0.0  ...   0.0           0.0   0.0    0.0   0.0       0.0         0.0   \n",
            "77   0.0  ...   0.0           0.0   0.0    0.0   0.0       0.0         0.0   \n",
            "78   0.0  ...   0.0           0.0   0.0    0.0   0.0       0.0         0.0   \n",
            "79   0.0  ...   0.0           0.0   0.0    0.0   0.0       0.0         0.0   \n",
            "80   0.0  ...   0.0           0.0   0.0    0.0   0.0       0.0         0.0   \n",
            "\n",
            "    hair_drier  toothbrush  background  \n",
            "0          0.0         0.0         2.0  \n",
            "1          0.0         0.0         0.0  \n",
            "2          0.0         0.0         0.0  \n",
            "3          0.0         0.0         0.0  \n",
            "4          0.0         0.0         0.0  \n",
            "..         ...         ...         ...  \n",
            "76         0.0         0.0         0.0  \n",
            "77         0.0         0.0         0.0  \n",
            "78         0.0         0.0         0.0  \n",
            "79         0.0         0.0         0.0  \n",
            "80         0.0         0.0         0.0  \n",
            "\n",
            "[81 rows x 82 columns]\n"
          ]
        }
      ]
    },
    {
      "cell_type": "markdown",
      "source": [
        "## 📋 Summary and Next Steps\n",
        "\n",
        "This notebook demonstrated how to:\n",
        "\n",
        "✅ **Load and validate** a YOLO model with comprehensive metrics  \n",
        "✅ **Export validation results** in multiple formats (CSV, HTML, XML, JSON, SQL)  \n",
        "✅ **Analyze confusion matrices** for detailed performance insights  \n",
        "✅ **Save results** for integration with other tools and workflows  \n",
        "\n",
        "### 🔄 Potential Next Steps:\n",
        "\n",
        "1. **Custom Dataset Validation**: Replace `\"coco8.yaml\"` with your own dataset configuration\n",
        "2. **Automated Reporting**: Set up scripts to automatically generate and send validation reports\n",
        "3. **Performance Monitoring**: Track model performance over time using the exported data\n",
        "4. **Model Comparison**: Use these exports to compare different model versions or architectures\n",
        "5. **Integration**: Connect the SQL database to your BI tools or monitoring dashboards\n",
        "\n",
        "### 📚 Additional Resources:\n",
        "- [Ultralytics Documentation](https://docs.ultralytics.com/)\n",
        "- [YOLO Model Hub](https://github.com/ultralytics/ultralytics)\n",
        "- [SQLite Viewer](https://inloop.github.io/sqlite-viewer/) for viewing database exports\n",
        "\n",
        "---\n",
        "*Happy validating! 🚀*"
      ],
      "metadata": {
        "id": "summary-section"
      }
    }
  ]
}
